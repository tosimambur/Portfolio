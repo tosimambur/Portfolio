{
 "cells": [
  {
   "cell_type": "code",
   "execution_count": 1,
   "id": "987647e5",
   "metadata": {},
   "outputs": [],
   "source": [
    "import numpy as np\n",
    "import pandas as pd\n",
    "import matplotlib.pyplot as plt\n",
    "\n",
    "%matplotlib inline\n",
    "\n",
    "from numpy.linalg import inv\n",
    "from sklearn.linear_model import LinearRegression\n",
    "import statsmodels\n",
    "import statsmodels.formula.api as smf\n",
    "from sklearn.preprocessing import PolynomialFeatures"
   ]
  },
  {
   "cell_type": "code",
   "execution_count": 2,
   "id": "51ac0830",
   "metadata": {},
   "outputs": [
    {
     "data": {
      "text/html": [
       "<div>\n",
       "<style scoped>\n",
       "    .dataframe tbody tr th:only-of-type {\n",
       "        vertical-align: middle;\n",
       "    }\n",
       "\n",
       "    .dataframe tbody tr th {\n",
       "        vertical-align: top;\n",
       "    }\n",
       "\n",
       "    .dataframe thead th {\n",
       "        text-align: right;\n",
       "    }\n",
       "</style>\n",
       "<table border=\"1\" class=\"dataframe\">\n",
       "  <thead>\n",
       "    <tr style=\"text-align: right;\">\n",
       "      <th></th>\n",
       "      <th>Unnamed: 0</th>\n",
       "      <th>УРОВЕНЬ ЗАНЯТОСТИ НАСЕЛЕНИЯ (в процентах)</th>\n",
       "      <th>ВРП на душу населения</th>\n",
       "    </tr>\n",
       "  </thead>\n",
       "  <tbody>\n",
       "    <tr>\n",
       "      <th>0</th>\n",
       "      <td>Белгородская область</td>\n",
       "      <td>61.0</td>\n",
       "      <td>558.984637</td>\n",
       "    </tr>\n",
       "    <tr>\n",
       "      <th>1</th>\n",
       "      <td>Брянская область</td>\n",
       "      <td>56.4</td>\n",
       "      <td>275.735010</td>\n",
       "    </tr>\n",
       "    <tr>\n",
       "      <th>2</th>\n",
       "      <td>Владимирская область</td>\n",
       "      <td>59.5</td>\n",
       "      <td>324.310218</td>\n",
       "    </tr>\n",
       "    <tr>\n",
       "      <th>3</th>\n",
       "      <td>Воронежская область</td>\n",
       "      <td>57.3</td>\n",
       "      <td>405.987264</td>\n",
       "    </tr>\n",
       "    <tr>\n",
       "      <th>4</th>\n",
       "      <td>Ивановская область</td>\n",
       "      <td>58.1</td>\n",
       "      <td>198.415204</td>\n",
       "    </tr>\n",
       "    <tr>\n",
       "      <th>...</th>\n",
       "      <td>...</td>\n",
       "      <td>...</td>\n",
       "      <td>...</td>\n",
       "    </tr>\n",
       "    <tr>\n",
       "      <th>80</th>\n",
       "      <td>Амурская область</td>\n",
       "      <td>59.9</td>\n",
       "      <td>381.100506</td>\n",
       "    </tr>\n",
       "    <tr>\n",
       "      <th>81</th>\n",
       "      <td>Магаданская область</td>\n",
       "      <td>69.1</td>\n",
       "      <td>1218.582441</td>\n",
       "    </tr>\n",
       "    <tr>\n",
       "      <th>82</th>\n",
       "      <td>Сахалинская область</td>\n",
       "      <td>65.2</td>\n",
       "      <td>2415.868728</td>\n",
       "    </tr>\n",
       "    <tr>\n",
       "      <th>83</th>\n",
       "      <td>Еврейская автономная область</td>\n",
       "      <td>56.0</td>\n",
       "      <td>352.550853</td>\n",
       "    </tr>\n",
       "    <tr>\n",
       "      <th>84</th>\n",
       "      <td>Чукотский автономный округ</td>\n",
       "      <td>77.4</td>\n",
       "      <td>1553.546720</td>\n",
       "    </tr>\n",
       "  </tbody>\n",
       "</table>\n",
       "<p>85 rows × 3 columns</p>\n",
       "</div>"
      ],
      "text/plain": [
       "                      Unnamed: 0  УРОВЕНЬ ЗАНЯТОСТИ НАСЕЛЕНИЯ (в процентах)  \\\n",
       "0           Белгородская область                                       61.0   \n",
       "1               Брянская область                                       56.4   \n",
       "2           Владимирская область                                       59.5   \n",
       "3            Воронежская область                                       57.3   \n",
       "4             Ивановская область                                       58.1   \n",
       "..                           ...                                        ...   \n",
       "80              Амурская область                                       59.9   \n",
       "81           Магаданская область                                       69.1   \n",
       "82           Сахалинская область                                       65.2   \n",
       "83  Еврейская автономная область                                       56.0   \n",
       "84    Чукотский автономный округ                                       77.4   \n",
       "\n",
       "    ВРП на душу населения   \n",
       "0               558.984637  \n",
       "1               275.735010  \n",
       "2               324.310218  \n",
       "3               405.987264  \n",
       "4               198.415204  \n",
       "..                     ...  \n",
       "80              381.100506  \n",
       "81             1218.582441  \n",
       "82             2415.868728  \n",
       "83              352.550853  \n",
       "84             1553.546720  \n",
       "\n",
       "[85 rows x 3 columns]"
      ]
     },
     "execution_count": 2,
     "metadata": {},
     "output_type": "execute_result"
    }
   ],
   "source": [
    "regions = pd.read_excel('PycharmProjects/jupyter/regions.xlsx')\n",
    "regions"
   ]
  },
  {
   "cell_type": "code",
   "execution_count": 3,
   "id": "c759b998",
   "metadata": {},
   "outputs": [],
   "source": [
    "regions.rename(columns={\"Unnamed: 0\": \"Region\", \"УРОВЕНЬ ЗАНЯТОСТИ НАСЕЛЕНИЯ (в процентах)\": \"employment_rate\", \"ВРП на душу населения \": \"vrp_per_capita\"}, inplace=True)"
   ]
  },
  {
   "cell_type": "code",
   "execution_count": 4,
   "id": "e4094025",
   "metadata": {},
   "outputs": [
    {
     "data": {
      "text/html": [
       "<div>\n",
       "<style scoped>\n",
       "    .dataframe tbody tr th:only-of-type {\n",
       "        vertical-align: middle;\n",
       "    }\n",
       "\n",
       "    .dataframe tbody tr th {\n",
       "        vertical-align: top;\n",
       "    }\n",
       "\n",
       "    .dataframe thead th {\n",
       "        text-align: right;\n",
       "    }\n",
       "</style>\n",
       "<table border=\"1\" class=\"dataframe\">\n",
       "  <thead>\n",
       "    <tr style=\"text-align: right;\">\n",
       "      <th></th>\n",
       "      <th>Region</th>\n",
       "      <th>employment_rate</th>\n",
       "      <th>vrp_per_capita</th>\n",
       "    </tr>\n",
       "  </thead>\n",
       "  <tbody>\n",
       "    <tr>\n",
       "      <th>0</th>\n",
       "      <td>Белгородская область</td>\n",
       "      <td>61.0</td>\n",
       "      <td>558.984637</td>\n",
       "    </tr>\n",
       "    <tr>\n",
       "      <th>1</th>\n",
       "      <td>Брянская область</td>\n",
       "      <td>56.4</td>\n",
       "      <td>275.735010</td>\n",
       "    </tr>\n",
       "    <tr>\n",
       "      <th>2</th>\n",
       "      <td>Владимирская область</td>\n",
       "      <td>59.5</td>\n",
       "      <td>324.310218</td>\n",
       "    </tr>\n",
       "    <tr>\n",
       "      <th>3</th>\n",
       "      <td>Воронежская область</td>\n",
       "      <td>57.3</td>\n",
       "      <td>405.987264</td>\n",
       "    </tr>\n",
       "    <tr>\n",
       "      <th>4</th>\n",
       "      <td>Ивановская область</td>\n",
       "      <td>58.1</td>\n",
       "      <td>198.415204</td>\n",
       "    </tr>\n",
       "    <tr>\n",
       "      <th>...</th>\n",
       "      <td>...</td>\n",
       "      <td>...</td>\n",
       "      <td>...</td>\n",
       "    </tr>\n",
       "    <tr>\n",
       "      <th>80</th>\n",
       "      <td>Амурская область</td>\n",
       "      <td>59.9</td>\n",
       "      <td>381.100506</td>\n",
       "    </tr>\n",
       "    <tr>\n",
       "      <th>81</th>\n",
       "      <td>Магаданская область</td>\n",
       "      <td>69.1</td>\n",
       "      <td>1218.582441</td>\n",
       "    </tr>\n",
       "    <tr>\n",
       "      <th>82</th>\n",
       "      <td>Сахалинская область</td>\n",
       "      <td>65.2</td>\n",
       "      <td>2415.868728</td>\n",
       "    </tr>\n",
       "    <tr>\n",
       "      <th>83</th>\n",
       "      <td>Еврейская автономная область</td>\n",
       "      <td>56.0</td>\n",
       "      <td>352.550853</td>\n",
       "    </tr>\n",
       "    <tr>\n",
       "      <th>84</th>\n",
       "      <td>Чукотский автономный округ</td>\n",
       "      <td>77.4</td>\n",
       "      <td>1553.546720</td>\n",
       "    </tr>\n",
       "  </tbody>\n",
       "</table>\n",
       "<p>85 rows × 3 columns</p>\n",
       "</div>"
      ],
      "text/plain": [
       "                          Region  employment_rate  vrp_per_capita\n",
       "0           Белгородская область             61.0      558.984637\n",
       "1               Брянская область             56.4      275.735010\n",
       "2           Владимирская область             59.5      324.310218\n",
       "3            Воронежская область             57.3      405.987264\n",
       "4             Ивановская область             58.1      198.415204\n",
       "..                           ...              ...             ...\n",
       "80              Амурская область             59.9      381.100506\n",
       "81           Магаданская область             69.1     1218.582441\n",
       "82           Сахалинская область             65.2     2415.868728\n",
       "83  Еврейская автономная область             56.0      352.550853\n",
       "84    Чукотский автономный округ             77.4     1553.546720\n",
       "\n",
       "[85 rows x 3 columns]"
      ]
     },
     "execution_count": 4,
     "metadata": {},
     "output_type": "execute_result"
    }
   ],
   "source": [
    "regions\n"
   ]
  },
  {
   "cell_type": "code",
   "execution_count": 5,
   "id": "0f03d0d4",
   "metadata": {},
   "outputs": [
    {
     "data": {
      "text/plain": [
       "(85, 3)"
      ]
     },
     "execution_count": 5,
     "metadata": {},
     "output_type": "execute_result"
    }
   ],
   "source": [
    "regions.shape"
   ]
  },
  {
   "cell_type": "code",
   "execution_count": 6,
   "id": "fd2d15cd",
   "metadata": {},
   "outputs": [
    {
     "data": {
      "text/plain": [
       "<AxesSubplot:xlabel='vrp_per_capita', ylabel='employment_rate'>"
      ]
     },
     "execution_count": 6,
     "metadata": {},
     "output_type": "execute_result"
    },
    {
     "data": {
      "image/png": "[encoded data removed]",
      "text/plain": [
       "<Figure size 1152x360 with 1 Axes>"
      ]
     },
     "metadata": {
      "needs_background": "light"
     },
     "output_type": "display_data"
    }
   ],
   "source": [
    "fig = plt.figure(figsize=(16,5))\n",
    "ax1 = plt.subplot(111)\n",
    "\n",
    "regions.plot.scatter('vrp_per_capita','employment_rate',ax = ax1)"
   ]
  },
  {
   "cell_type": "code",
   "execution_count": 7,
   "id": "fdf38397",
   "metadata": {},
   "outputs": [
    {
     "data": {
      "text/plain": [
       "Region              object\n",
       "employment_rate    float64\n",
       "vrp_per_capita     float64\n",
       "dtype: object"
      ]
     },
     "execution_count": 7,
     "metadata": {},
     "output_type": "execute_result"
    }
   ],
   "source": [
    "regions.dtypes"
   ]
  },
  {
   "cell_type": "code",
   "execution_count": 8,
   "id": "563575d5",
   "metadata": {},
   "outputs": [
    {
     "data": {
      "text/html": [
       "<div>\n",
       "<style scoped>\n",
       "    .dataframe tbody tr th:only-of-type {\n",
       "        vertical-align: middle;\n",
       "    }\n",
       "\n",
       "    .dataframe tbody tr th {\n",
       "        vertical-align: top;\n",
       "    }\n",
       "\n",
       "    .dataframe thead th {\n",
       "        text-align: right;\n",
       "    }\n",
       "</style>\n",
       "<table border=\"1\" class=\"dataframe\">\n",
       "  <thead>\n",
       "    <tr style=\"text-align: right;\">\n",
       "      <th></th>\n",
       "      <th>Region</th>\n",
       "      <th>employment_rate</th>\n",
       "      <th>vrp_per_capita</th>\n",
       "    </tr>\n",
       "  </thead>\n",
       "  <tbody>\n",
       "    <tr>\n",
       "      <th>20</th>\n",
       "      <td>Ненецкий автономный округ</td>\n",
       "      <td>62.1</td>\n",
       "      <td>6920.943311</td>\n",
       "    </tr>\n",
       "    <tr>\n",
       "      <th>60</th>\n",
       "      <td>Ханты-Мансийский автономный округ – Югра</td>\n",
       "      <td>69.1</td>\n",
       "      <td>2655.685018</td>\n",
       "    </tr>\n",
       "    <tr>\n",
       "      <th>61</th>\n",
       "      <td>Ямало-Ненецкий автономный округ</td>\n",
       "      <td>74.4</td>\n",
       "      <td>5664.115540</td>\n",
       "    </tr>\n",
       "    <tr>\n",
       "      <th>82</th>\n",
       "      <td>Сахалинская область</td>\n",
       "      <td>65.2</td>\n",
       "      <td>2415.868728</td>\n",
       "    </tr>\n",
       "  </tbody>\n",
       "</table>\n",
       "</div>"
      ],
      "text/plain": [
       "                                      Region  employment_rate  vrp_per_capita\n",
       "20                 Ненецкий автономный округ             62.1     6920.943311\n",
       "60  Ханты-Мансийский автономный округ – Югра             69.1     2655.685018\n",
       "61           Ямало-Ненецкий автономный округ             74.4     5664.115540\n",
       "82                       Сахалинская область             65.2     2415.868728"
      ]
     },
     "execution_count": 8,
     "metadata": {},
     "output_type": "execute_result"
    }
   ],
   "source": [
    "regions[regions.vrp_per_capita > 2000]"
   ]
  },
  {
   "cell_type": "code",
   "execution_count": 9,
   "id": "a5746bbc",
   "metadata": {},
   "outputs": [
    {
     "data": {
      "text/html": [
       "<div>\n",
       "<style scoped>\n",
       "    .dataframe tbody tr th:only-of-type {\n",
       "        vertical-align: middle;\n",
       "    }\n",
       "\n",
       "    .dataframe tbody tr th {\n",
       "        vertical-align: top;\n",
       "    }\n",
       "\n",
       "    .dataframe thead th {\n",
       "        text-align: right;\n",
       "    }\n",
       "</style>\n",
       "<table border=\"1\" class=\"dataframe\">\n",
       "  <thead>\n",
       "    <tr style=\"text-align: right;\">\n",
       "      <th></th>\n",
       "      <th>Region</th>\n",
       "      <th>employment_rate</th>\n",
       "      <th>vrp_per_capita</th>\n",
       "    </tr>\n",
       "  </thead>\n",
       "  <tbody>\n",
       "    <tr>\n",
       "      <th>0</th>\n",
       "      <td>Белгородская область</td>\n",
       "      <td>61.0</td>\n",
       "      <td>558.984637</td>\n",
       "    </tr>\n",
       "    <tr>\n",
       "      <th>1</th>\n",
       "      <td>Брянская область</td>\n",
       "      <td>56.4</td>\n",
       "      <td>275.735010</td>\n",
       "    </tr>\n",
       "    <tr>\n",
       "      <th>2</th>\n",
       "      <td>Владимирская область</td>\n",
       "      <td>59.5</td>\n",
       "      <td>324.310218</td>\n",
       "    </tr>\n",
       "    <tr>\n",
       "      <th>3</th>\n",
       "      <td>Воронежская область</td>\n",
       "      <td>57.3</td>\n",
       "      <td>405.987264</td>\n",
       "    </tr>\n",
       "    <tr>\n",
       "      <th>4</th>\n",
       "      <td>Ивановская область</td>\n",
       "      <td>58.1</td>\n",
       "      <td>198.415204</td>\n",
       "    </tr>\n",
       "    <tr>\n",
       "      <th>...</th>\n",
       "      <td>...</td>\n",
       "      <td>...</td>\n",
       "      <td>...</td>\n",
       "    </tr>\n",
       "    <tr>\n",
       "      <th>79</th>\n",
       "      <td>Хабаровский край</td>\n",
       "      <td>61.9</td>\n",
       "      <td>540.122824</td>\n",
       "    </tr>\n",
       "    <tr>\n",
       "      <th>80</th>\n",
       "      <td>Амурская область</td>\n",
       "      <td>59.9</td>\n",
       "      <td>381.100506</td>\n",
       "    </tr>\n",
       "    <tr>\n",
       "      <th>81</th>\n",
       "      <td>Магаданская область</td>\n",
       "      <td>69.1</td>\n",
       "      <td>1218.582441</td>\n",
       "    </tr>\n",
       "    <tr>\n",
       "      <th>83</th>\n",
       "      <td>Еврейская автономная область</td>\n",
       "      <td>56.0</td>\n",
       "      <td>352.550853</td>\n",
       "    </tr>\n",
       "    <tr>\n",
       "      <th>84</th>\n",
       "      <td>Чукотский автономный округ</td>\n",
       "      <td>77.4</td>\n",
       "      <td>1553.546720</td>\n",
       "    </tr>\n",
       "  </tbody>\n",
       "</table>\n",
       "<p>81 rows × 3 columns</p>\n",
       "</div>"
      ],
      "text/plain": [
       "                          Region  employment_rate  vrp_per_capita\n",
       "0           Белгородская область             61.0      558.984637\n",
       "1               Брянская область             56.4      275.735010\n",
       "2           Владимирская область             59.5      324.310218\n",
       "3            Воронежская область             57.3      405.987264\n",
       "4             Ивановская область             58.1      198.415204\n",
       "..                           ...              ...             ...\n",
       "79             Хабаровский край              61.9      540.122824\n",
       "80              Амурская область             59.9      381.100506\n",
       "81           Магаданская область             69.1     1218.582441\n",
       "83  Еврейская автономная область             56.0      352.550853\n",
       "84    Чукотский автономный округ             77.4     1553.546720\n",
       "\n",
       "[81 rows x 3 columns]"
      ]
     },
     "execution_count": 9,
     "metadata": {},
     "output_type": "execute_result"
    }
   ],
   "source": [
    "regions = regions[regions.vrp_per_capita < 2000]\n",
    "regions"
   ]
  },
  {
   "cell_type": "code",
   "execution_count": 10,
   "id": "79f9a0fe",
   "metadata": {},
   "outputs": [
    {
     "data": {
      "text/plain": [
       "(81, 3)"
      ]
     },
     "execution_count": 10,
     "metadata": {},
     "output_type": "execute_result"
    }
   ],
   "source": [
    "regions.shape"
   ]
  },
  {
   "cell_type": "code",
   "execution_count": 11,
   "id": "3a977c39",
   "metadata": {},
   "outputs": [
    {
     "data": {
      "text/plain": [
       "<AxesSubplot:xlabel='vrp_per_capita', ylabel='employment_rate'>"
      ]
     },
     "execution_count": 11,
     "metadata": {},
     "output_type": "execute_result"
    },
    {
     "data": {
      "image/png": "[encoded data removed]",
      "text/plain": [
       "<Figure size 1152x360 with 1 Axes>"
      ]
     },
     "metadata": {
      "needs_background": "light"
     },
     "output_type": "display_data"
    }
   ],
   "source": [
    "fig = plt.figure(figsize=(16,5))\n",
    "ax1 = plt.subplot(111)\n",
    "\n",
    "regions.plot.scatter('vrp_per_capita','employment_rate',ax = ax1)"
   ]
  },
  {
   "cell_type": "code",
   "execution_count": null,
   "id": "c831cee5",
   "metadata": {},
   "outputs": [],
   "source": []
  },
  {
   "cell_type": "code",
   "execution_count": 12,
   "id": "6ea1b079",
   "metadata": {},
   "outputs": [],
   "source": [
    "X  = regions['vrp_per_capita'].values\n",
    "y  = regions['employment_rate'].values\n"
   ]
  },
  {
   "cell_type": "code",
   "execution_count": 13,
   "id": "d9ce258d",
   "metadata": {},
   "outputs": [],
   "source": [
    "data_train = regions.sample(60)"
   ]
  },
  {
   "cell_type": "code",
   "execution_count": 14,
   "id": "e8dbed7f",
   "metadata": {},
   "outputs": [
    {
     "data": {
      "text/html": [
       "<div>\n",
       "<style scoped>\n",
       "    .dataframe tbody tr th:only-of-type {\n",
       "        vertical-align: middle;\n",
       "    }\n",
       "\n",
       "    .dataframe tbody tr th {\n",
       "        vertical-align: top;\n",
       "    }\n",
       "\n",
       "    .dataframe thead th {\n",
       "        text-align: right;\n",
       "    }\n",
       "</style>\n",
       "<table border=\"1\" class=\"dataframe\">\n",
       "  <thead>\n",
       "    <tr style=\"text-align: right;\">\n",
       "      <th></th>\n",
       "      <th>Region</th>\n",
       "      <th>employment_rate</th>\n",
       "      <th>vrp_per_capita</th>\n",
       "    </tr>\n",
       "  </thead>\n",
       "  <tbody>\n",
       "    <tr>\n",
       "      <th>3</th>\n",
       "      <td>Воронежская область</td>\n",
       "      <td>57.3</td>\n",
       "      <td>405.987264</td>\n",
       "    </tr>\n",
       "    <tr>\n",
       "      <th>5</th>\n",
       "      <td>Калужская область</td>\n",
       "      <td>60.7</td>\n",
       "      <td>464.779074</td>\n",
       "    </tr>\n",
       "    <tr>\n",
       "      <th>8</th>\n",
       "      <td>Липецкая область</td>\n",
       "      <td>59.6</td>\n",
       "      <td>509.482184</td>\n",
       "    </tr>\n",
       "    <tr>\n",
       "      <th>9</th>\n",
       "      <td>Московская область</td>\n",
       "      <td>65.2</td>\n",
       "      <td>546.329922</td>\n",
       "    </tr>\n",
       "    <tr>\n",
       "      <th>10</th>\n",
       "      <td>Орловская область</td>\n",
       "      <td>52.0</td>\n",
       "      <td>314.527880</td>\n",
       "    </tr>\n",
       "    <tr>\n",
       "      <th>16</th>\n",
       "      <td>Ярославская область</td>\n",
       "      <td>58.0</td>\n",
       "      <td>447.245811</td>\n",
       "    </tr>\n",
       "    <tr>\n",
       "      <th>17</th>\n",
       "      <td>г. Москва</td>\n",
       "      <td>67.2</td>\n",
       "      <td>1410.425553</td>\n",
       "    </tr>\n",
       "    <tr>\n",
       "      <th>18</th>\n",
       "      <td>Республика Карелия</td>\n",
       "      <td>55.0</td>\n",
       "      <td>455.971992</td>\n",
       "    </tr>\n",
       "    <tr>\n",
       "      <th>23</th>\n",
       "      <td>Калининградская область</td>\n",
       "      <td>62.0</td>\n",
       "      <td>455.165333</td>\n",
       "    </tr>\n",
       "    <tr>\n",
       "      <th>27</th>\n",
       "      <td>Псковская область</td>\n",
       "      <td>55.9</td>\n",
       "      <td>262.303945</td>\n",
       "    </tr>\n",
       "    <tr>\n",
       "      <th>33</th>\n",
       "      <td>Астраханская область</td>\n",
       "      <td>57.1</td>\n",
       "      <td>550.204514</td>\n",
       "    </tr>\n",
       "    <tr>\n",
       "      <th>39</th>\n",
       "      <td>Кабардино-Балкарская Республика</td>\n",
       "      <td>57.9</td>\n",
       "      <td>167.731690</td>\n",
       "    </tr>\n",
       "    <tr>\n",
       "      <th>43</th>\n",
       "      <td>Ставропольский край</td>\n",
       "      <td>57.2</td>\n",
       "      <td>255.211656</td>\n",
       "    </tr>\n",
       "    <tr>\n",
       "      <th>49</th>\n",
       "      <td>Чувашская Республика</td>\n",
       "      <td>57.6</td>\n",
       "      <td>244.518065</td>\n",
       "    </tr>\n",
       "    <tr>\n",
       "      <th>64</th>\n",
       "      <td>Республика Алтай</td>\n",
       "      <td>53.0</td>\n",
       "      <td>229.640327</td>\n",
       "    </tr>\n",
       "    <tr>\n",
       "      <th>67</th>\n",
       "      <td>Алтайский край</td>\n",
       "      <td>55.7</td>\n",
       "      <td>237.353977</td>\n",
       "    </tr>\n",
       "    <tr>\n",
       "      <th>68</th>\n",
       "      <td>Красноярский край</td>\n",
       "      <td>60.5</td>\n",
       "      <td>795.487370</td>\n",
       "    </tr>\n",
       "    <tr>\n",
       "      <th>69</th>\n",
       "      <td>Иркутская область</td>\n",
       "      <td>57.1</td>\n",
       "      <td>582.525427</td>\n",
       "    </tr>\n",
       "    <tr>\n",
       "      <th>73</th>\n",
       "      <td>Томская область</td>\n",
       "      <td>57.9</td>\n",
       "      <td>536.795516</td>\n",
       "    </tr>\n",
       "    <tr>\n",
       "      <th>74</th>\n",
       "      <td>Республика Бурятия</td>\n",
       "      <td>52.1</td>\n",
       "      <td>229.368800</td>\n",
       "    </tr>\n",
       "    <tr>\n",
       "      <th>81</th>\n",
       "      <td>Магаданская область</td>\n",
       "      <td>69.1</td>\n",
       "      <td>1218.582441</td>\n",
       "    </tr>\n",
       "  </tbody>\n",
       "</table>\n",
       "</div>"
      ],
      "text/plain": [
       "                             Region  employment_rate  vrp_per_capita\n",
       "3               Воронежская область             57.3      405.987264\n",
       "5                 Калужская область             60.7      464.779074\n",
       "8                  Липецкая область             59.6      509.482184\n",
       "9                Московская область             65.2      546.329922\n",
       "10                Орловская область             52.0      314.527880\n",
       "16              Ярославская область             58.0      447.245811\n",
       "17                        г. Москва             67.2     1410.425553\n",
       "18               Республика Карелия             55.0      455.971992\n",
       "23          Калининградская область             62.0      455.165333\n",
       "27                Псковская область             55.9      262.303945\n",
       "33             Астраханская область             57.1      550.204514\n",
       "39  Кабардино-Балкарская Республика             57.9      167.731690\n",
       "43              Ставропольский край             57.2      255.211656\n",
       "49             Чувашская Республика             57.6      244.518065\n",
       "64                 Республика Алтай             53.0      229.640327\n",
       "67                   Алтайский край             55.7      237.353977\n",
       "68                Красноярский край             60.5      795.487370\n",
       "69                Иркутская область             57.1      582.525427\n",
       "73                  Томская область             57.9      536.795516\n",
       "74               Республика Бурятия             52.1      229.368800\n",
       "81              Магаданская область             69.1     1218.582441"
      ]
     },
     "execution_count": 14,
     "metadata": {},
     "output_type": "execute_result"
    }
   ],
   "source": [
    "data_test = regions.drop(data_train.index)\n",
    "data_test"
   ]
  },
  {
   "cell_type": "code",
   "execution_count": 15,
   "id": "03818c77",
   "metadata": {},
   "outputs": [
    {
     "data": {
      "text/plain": [
       "(21, 3)"
      ]
     },
     "execution_count": 15,
     "metadata": {},
     "output_type": "execute_result"
    }
   ],
   "source": [
    "data_test.shape"
   ]
  },
  {
   "cell_type": "code",
   "execution_count": 18,
   "id": "9fb8acbe",
   "metadata": {},
   "outputs": [],
   "source": [
    "from sklearn.metrics import mean_squared_error, r2_score"
   ]
  },
  {
   "cell_type": "code",
   "execution_count": 19,
   "id": "791c5274",
   "metadata": {},
   "outputs": [
    {
     "name": "stdout",
     "output_type": "stream",
     "text": [
      "Train error: 9.710692751267194\n",
      "Test error: 8.27808675780043\n"
     ]
    },
    {
     "data": {
      "image/png": "[encoded data removed]",
      "text/plain": [
       "<Figure size 1440x1440 with 2 Axes>"
      ]
     },
     "metadata": {
      "needs_background": "light"
     },
     "output_type": "display_data"
    }
   ],
   "source": [
    "X_train = data_train['vrp_per_capita'].values\n",
    "X_test = data_test['vrp_per_capita'].values\n",
    "y_train = data_train['employment_rate'].values\n",
    "y_test = data_test['employment_rate'].values\n",
    "\n",
    "X_train = X_train.reshape((len(X_train), 1)) \n",
    "X_test = X_test.reshape((len(X_test), 1))\n",
    "\n",
    "model = LinearRegression()  # создаем пустой объект со случайными параметрами регрессии, которые пока не описывают наши данные\n",
    "model.fit(X_train, y_train)\n",
    "\n",
    "pred_train = model.predict(X_train)\n",
    "pred_test = model.predict(X_test)\n",
    "\n",
    "# fig = plt.figure(figsize=(10, 10))\n",
    "# ax1 = fig.add_subplot(211)\n",
    "# ах2 = fig.add_subplot(212)\n",
    "\n",
    "fig, axes = plt.subplots(2, 1)\n",
    "fig.set_figheight(20)\n",
    "fig.set_figwidth(20)\n",
    "\n",
    "axes[0].scatter(data_train.vrp_per_capita, data_train.employment_rate, color='blue', label='Train', alpha=0.5)\n",
    "axes[1].scatter(data_test.vrp_per_capita, data_test.employment_rate, color='green', label='Test', alpha=0.5)\n",
    "axes[0].plot(data_train.vrp_per_capita, pred_train, color='orange', label='Train predict')\n",
    "axes[1].plot(data_test.vrp_per_capita, pred_test, color='red', label='Test predict')\n",
    "\n",
    "axes[0].legend()\n",
    "axes[1].legend()\n",
    "\n",
    "print('Train error:', mean_squared_error(y_train, pred_train))\n",
    "print('Test error:', mean_squared_error(y_test, pred_test))"
   ]
  },
  {
   "cell_type": "code",
   "execution_count": 20,
   "id": "b7551a19",
   "metadata": {},
   "outputs": [
    {
     "data": {
      "text/plain": [
       "(9.710692751267194, 8.27808675780043)"
      ]
     },
     "execution_count": 20,
     "metadata": {},
     "output_type": "execute_result"
    }
   ],
   "source": [
    "from sklearn.metrics import mean_squared_error, r2_score\n",
    "mean_squared_error(y_train, pred_train), mean_squared_error(y_test, pred_test)"
   ]
  },
  {
   "cell_type": "code",
   "execution_count": 21,
   "id": "ca729616",
   "metadata": {},
   "outputs": [
    {
     "name": "stdout",
     "output_type": "stream",
     "text": [
      "R^2 train: 0.573, test: 0.570\n"
     ]
    }
   ],
   "source": [
    "print('R^2 train: {:.3f}, test: {:.3f}'.format(\n",
    "        r2_score(y_train, pred_train),\n",
    "        r2_score(y_test, pred_test)))"
   ]
  },
  {
   "cell_type": "code",
   "execution_count": 22,
   "id": "3cfd843c",
   "metadata": {},
   "outputs": [
    {
     "data": {
      "text/plain": [
       "Intercept         51.754938\n",
       "vrp_per_capita     0.013776\n",
       "dtype: float64"
      ]
     },
     "execution_count": 22,
     "metadata": {},
     "output_type": "execute_result"
    }
   ],
   "source": [
    "statmodel = smf.ols('employment_rate~vrp_per_capita',data=regions)\n",
    "fitted = statmodel.fit()\n",
    "fitted.params"
   ]
  },
  {
   "cell_type": "code",
   "execution_count": 23,
   "id": "0fd68240",
   "metadata": {},
   "outputs": [
    {
     "name": "stdout",
     "output_type": "stream",
     "text": [
      "                            OLS Regression Results                            \n",
      "==============================================================================\n",
      "Dep. Variable:        employment_rate   R-squared:                       0.582\n",
      "Model:                            OLS   Adj. R-squared:                  0.576\n",
      "Method:                 Least Squares   F-statistic:                     109.8\n",
      "Date:                Tue, 10 Aug 2021   Prob (F-statistic):           1.32e-16\n",
      "Time:                        15:41:14   Log-Likelihood:                -204.81\n",
      "No. Observations:                  81   AIC:                             413.6\n",
      "Df Residuals:                      79   BIC:                             418.4\n",
      "Df Model:                           1                                         \n",
      "Covariance Type:            nonrobust                                         \n",
      "==================================================================================\n",
      "                     coef    std err          t      P>|t|      [0.025      0.975]\n",
      "----------------------------------------------------------------------------------\n",
      "Intercept         51.7549      0.672     77.053      0.000      50.418      53.092\n",
      "vrp_per_capita     0.0138      0.001     10.479      0.000       0.011       0.016\n",
      "==============================================================================\n",
      "Omnibus:                        3.096   Durbin-Watson:                   1.776\n",
      "Prob(Omnibus):                  0.213   Jarque-Bera (JB):                2.285\n",
      "Skew:                          -0.251   Prob(JB):                        0.319\n",
      "Kurtosis:                       2.348   Cond. No.                     1.01e+03\n",
      "==============================================================================\n",
      "\n",
      "Notes:\n",
      "[1] Standard Errors assume that the covariance matrix of the errors is correctly specified.\n",
      "[2] The condition number is large, 1.01e+03. This might indicate that there are\n",
      "strong multicollinearity or other numerical problems.\n"
     ]
    }
   ],
   "source": [
    "print (fitted.summary())"
   ]
  },
  {
   "cell_type": "code",
   "execution_count": 24,
   "id": "6afca020",
   "metadata": {},
   "outputs": [
    {
     "data": {
      "text/plain": [
       "(array([ 4.,  1.,  4., 10., 22., 13., 14.,  6.,  2.,  3.,  1.,  0.,  0.,\n",
       "         0.,  1.]),\n",
       " array([47.5       , 49.49333333, 51.48666667, 53.48      , 55.47333333,\n",
       "        57.46666667, 59.46      , 61.45333333, 63.44666667, 65.44      ,\n",
       "        67.43333333, 69.42666667, 71.42      , 73.41333333, 75.40666667,\n",
       "        77.4       ]),\n",
       " <BarContainer object of 15 artists>)"
      ]
     },
     "execution_count": 24,
     "metadata": {},
     "output_type": "execute_result"
    },
    {
     "data": {
      "image/png": "[encoded data removed]",
      "text/plain": [
       "<Figure size 432x288 with 1 Axes>"
      ]
     },
     "metadata": {
      "needs_background": "light"
     },
     "output_type": "display_data"
    }
   ],
   "source": [
    "plt.hist(regions.employment_rate, bins = 15)"
   ]
  },
  {
   "cell_type": "code",
   "execution_count": 25,
   "id": "39b95368",
   "metadata": {},
   "outputs": [
    {
     "name": "stdout",
     "output_type": "stream",
     "text": [
      "3.4633062394575624 58.5401863569647\n"
     ]
    }
   ],
   "source": [
    "X_scaled = (X - X.mean())/X.std()\n",
    "w0 = 100\n",
    "w1 = -3\n",
    "\n",
    "L = 0.0001  #шаг обновления весов\n",
    "epochs = 500\n",
    "\n",
    "for i in range(epochs): \n",
    "    \n",
    "    w1 = w1 + L * sum(X_scaled*(y - w0 - w1*X_scaled)) \n",
    "    w0 = w0 + L * sum((y - w0 - w1*X_scaled))    \n",
    "    \n",
    "    plt.show()\n",
    "    \n",
    "#     break\n",
    "\n",
    "print (w1, w0)"
   ]
  },
  {
   "cell_type": "code",
   "execution_count": 26,
   "id": "e650ad1d",
   "metadata": {},
   "outputs": [
    {
     "name": "stderr",
     "output_type": "stream",
     "text": [
      "c:\\питон блеат\\lib\\site-packages\\pandas\\core\\frame.py:3607: SettingWithCopyWarning: \n",
      "A value is trying to be set on a copy of a slice from a DataFrame.\n",
      "Try using .loc[row_indexer,col_indexer] = value instead\n",
      "\n",
      "See the caveats in the documentation: https://pandas.pydata.org/pandas-docs/stable/user_guide/indexing.html#returning-a-view-versus-a-copy\n",
      "  self._set_item(key, value)\n"
     ]
    },
    {
     "data": {
      "text/plain": [
       "<AxesSubplot:xlabel='vrp_per_capita', ylabel='employment_rate'>"
      ]
     },
     "execution_count": 26,
     "metadata": {},
     "output_type": "execute_result"
    },
    {
     "data": {
      "image/png": "[encoded data removed]",
      "text/plain": [
       "<Figure size 1152x360 with 1 Axes>"
      ]
     },
     "metadata": {
      "needs_background": "light"
     },
     "output_type": "display_data"
    }
   ],
   "source": [
    "regions['gradient_solution'] = w0 + w1*X_scaled\n",
    "regions['mean'] = regions.employment_rate.mean()\n",
    "fig = plt.figure(figsize=(16,5))\n",
    "ax1 = plt.subplot(111)\n",
    "\n",
    "regions.plot.scatter('vrp_per_capita','employment_rate',ax = ax1)\n",
    "regions.plot.line('vrp_per_capita','gradient_solution',ax = ax1,color = 'darkblue')\n",
    "\n",
    "regions.plot.line('vrp_per_capita','mean',ax = ax1,color = 'red')"
   ]
  },
  {
   "cell_type": "code",
   "execution_count": 27,
   "id": "0e7d0c41",
   "metadata": {},
   "outputs": [
    {
     "ename": "NameError",
     "evalue": "name 'train_test_split' is not defined",
     "output_type": "error",
     "traceback": [
      "\u001b[1;31m---------------------------------------------------------------------------\u001b[0m",
      "\u001b[1;31mNameError\u001b[0m                                 Traceback (most recent call last)",
      "\u001b[1;32mC:\\Users\\08DE~1\\AppData\\Local\\Temp/ipykernel_6512/4274233660.py\u001b[0m in \u001b[0;36m<module>\u001b[1;34m\u001b[0m\n\u001b[1;32m----> 1\u001b[1;33m X_train, X_test, y_train, y_test = train_test_split(\n\u001b[0m\u001b[0;32m      2\u001b[0m     X_scaled, y, test_size=0.3, random_state=10)\n\u001b[0;32m      3\u001b[0m \u001b[1;33m\u001b[0m\u001b[0m\n\u001b[0;32m      4\u001b[0m \u001b[0my_train_pred\u001b[0m \u001b[1;33m=\u001b[0m \u001b[0mw0\u001b[0m \u001b[1;33m+\u001b[0m \u001b[0mw1\u001b[0m\u001b[1;33m*\u001b[0m\u001b[0mX_train\u001b[0m\u001b[1;33m\u001b[0m\u001b[1;33m\u001b[0m\u001b[0m\n\u001b[0;32m      5\u001b[0m \u001b[0my_test_pred\u001b[0m \u001b[1;33m=\u001b[0m \u001b[0mw0\u001b[0m \u001b[1;33m+\u001b[0m \u001b[0mw1\u001b[0m\u001b[1;33m*\u001b[0m\u001b[0mX_test\u001b[0m\u001b[1;33m\u001b[0m\u001b[1;33m\u001b[0m\u001b[0m\n",
      "\u001b[1;31mNameError\u001b[0m: name 'train_test_split' is not defined"
     ]
    }
   ],
   "source": [
    "X_train, X_test, y_train, y_test = train_test_split(\n",
    "    X_scaled, y, test_size=0.3, random_state=10)\n",
    "\n",
    "y_train_pred = w0 + w1*X_train\n",
    "y_test_pred = w0 + w1*X_test\n",
    "\n",
    "\n",
    "print('MSE train: {:.3f}, test: {:.3f}'.format(\n",
    "        mean_squared_error(y_train, y_train_pred),\n",
    "        mean_squared_error(y_test, y_test_pred)))\n",
    "print('R^2 train: {:.3f}, test: {:.3f}'.format(\n",
    "        r2_score(y_train, y_train_pred),\n",
    "        r2_score(y_test, y_test_pred)))"
   ]
  },
  {
   "cell_type": "code",
   "execution_count": 28,
   "id": "feacb923",
   "metadata": {},
   "outputs": [
    {
     "data": {
      "text/html": [
       "<div>\n",
       "<style scoped>\n",
       "    .dataframe tbody tr th:only-of-type {\n",
       "        vertical-align: middle;\n",
       "    }\n",
       "\n",
       "    .dataframe tbody tr th {\n",
       "        vertical-align: top;\n",
       "    }\n",
       "\n",
       "    .dataframe thead th {\n",
       "        text-align: right;\n",
       "    }\n",
       "</style>\n",
       "<table border=\"1\" class=\"dataframe\">\n",
       "  <thead>\n",
       "    <tr style=\"text-align: right;\">\n",
       "      <th></th>\n",
       "      <th>Region</th>\n",
       "      <th>employment_rate</th>\n",
       "      <th>vrp_per_capita</th>\n",
       "      <th>gradient_solution</th>\n",
       "      <th>mean</th>\n",
       "    </tr>\n",
       "  </thead>\n",
       "  <tbody>\n",
       "    <tr>\n",
       "      <th>0</th>\n",
       "      <td>Белгородская область</td>\n",
       "      <td>61.0</td>\n",
       "      <td>558.984637</td>\n",
       "      <td>60.127055</td>\n",
       "      <td>57.817284</td>\n",
       "    </tr>\n",
       "    <tr>\n",
       "      <th>1</th>\n",
       "      <td>Брянская область</td>\n",
       "      <td>56.4</td>\n",
       "      <td>275.735010</td>\n",
       "      <td>56.347842</td>\n",
       "      <td>57.817284</td>\n",
       "    </tr>\n",
       "    <tr>\n",
       "      <th>2</th>\n",
       "      <td>Владимирская область</td>\n",
       "      <td>59.5</td>\n",
       "      <td>324.310218</td>\n",
       "      <td>56.995949</td>\n",
       "      <td>57.817284</td>\n",
       "    </tr>\n",
       "    <tr>\n",
       "      <th>3</th>\n",
       "      <td>Воронежская область</td>\n",
       "      <td>57.3</td>\n",
       "      <td>405.987264</td>\n",
       "      <td>58.085712</td>\n",
       "      <td>57.817284</td>\n",
       "    </tr>\n",
       "    <tr>\n",
       "      <th>4</th>\n",
       "      <td>Ивановская область</td>\n",
       "      <td>58.1</td>\n",
       "      <td>198.415204</td>\n",
       "      <td>55.316215</td>\n",
       "      <td>57.817284</td>\n",
       "    </tr>\n",
       "    <tr>\n",
       "      <th>...</th>\n",
       "      <td>...</td>\n",
       "      <td>...</td>\n",
       "      <td>...</td>\n",
       "      <td>...</td>\n",
       "      <td>...</td>\n",
       "    </tr>\n",
       "    <tr>\n",
       "      <th>79</th>\n",
       "      <td>Хабаровский край</td>\n",
       "      <td>61.9</td>\n",
       "      <td>540.122824</td>\n",
       "      <td>59.875394</td>\n",
       "      <td>57.817284</td>\n",
       "    </tr>\n",
       "    <tr>\n",
       "      <th>80</th>\n",
       "      <td>Амурская область</td>\n",
       "      <td>59.9</td>\n",
       "      <td>381.100506</td>\n",
       "      <td>57.753664</td>\n",
       "      <td>57.817284</td>\n",
       "    </tr>\n",
       "    <tr>\n",
       "      <th>81</th>\n",
       "      <td>Магаданская область</td>\n",
       "      <td>69.1</td>\n",
       "      <td>1218.582441</td>\n",
       "      <td>68.927633</td>\n",
       "      <td>57.817284</td>\n",
       "    </tr>\n",
       "    <tr>\n",
       "      <th>83</th>\n",
       "      <td>Еврейская автономная область</td>\n",
       "      <td>56.0</td>\n",
       "      <td>352.550853</td>\n",
       "      <td>57.372745</td>\n",
       "      <td>57.817284</td>\n",
       "    </tr>\n",
       "    <tr>\n",
       "      <th>84</th>\n",
       "      <td>Чукотский автономный округ</td>\n",
       "      <td>77.4</td>\n",
       "      <td>1553.546720</td>\n",
       "      <td>73.396841</td>\n",
       "      <td>57.817284</td>\n",
       "    </tr>\n",
       "  </tbody>\n",
       "</table>\n",
       "<p>81 rows × 5 columns</p>\n",
       "</div>"
      ],
      "text/plain": [
       "                          Region  employment_rate  vrp_per_capita  \\\n",
       "0           Белгородская область             61.0      558.984637   \n",
       "1               Брянская область             56.4      275.735010   \n",
       "2           Владимирская область             59.5      324.310218   \n",
       "3            Воронежская область             57.3      405.987264   \n",
       "4             Ивановская область             58.1      198.415204   \n",
       "..                           ...              ...             ...   \n",
       "79             Хабаровский край              61.9      540.122824   \n",
       "80              Амурская область             59.9      381.100506   \n",
       "81           Магаданская область             69.1     1218.582441   \n",
       "83  Еврейская автономная область             56.0      352.550853   \n",
       "84    Чукотский автономный округ             77.4     1553.546720   \n",
       "\n",
       "    gradient_solution       mean  \n",
       "0           60.127055  57.817284  \n",
       "1           56.347842  57.817284  \n",
       "2           56.995949  57.817284  \n",
       "3           58.085712  57.817284  \n",
       "4           55.316215  57.817284  \n",
       "..                ...        ...  \n",
       "79          59.875394  57.817284  \n",
       "80          57.753664  57.817284  \n",
       "81          68.927633  57.817284  \n",
       "83          57.372745  57.817284  \n",
       "84          73.396841  57.817284  \n",
       "\n",
       "[81 rows x 5 columns]"
      ]
     },
     "execution_count": 28,
     "metadata": {},
     "output_type": "execute_result"
    }
   ],
   "source": [
    "regions"
   ]
  },
  {
   "cell_type": "code",
   "execution_count": 32,
   "id": "9bd55c43",
   "metadata": {},
   "outputs": [
    {
     "name": "stdout",
     "output_type": "stream",
     "text": [
      "[57.81731242  3.57599743]\n"
     ]
    }
   ],
   "source": [
    "X_scaled = (X - X.mean())/X.std()\n",
    "\n",
    "w = [100, -3]\n",
    "def f(w): return ((y - w[0] - w[1]*X_scaled)**2).sum()/len(X_scaled)\n",
    "def df1(w): return -2/len(X_scaled)*(y - w[0] - w[1]*X_scaled).sum()\n",
    "def df2(w): return -2/len(X_scaled)*((y - w[0] - w[1]*X_scaled)*X_scaled).sum()\n",
    "\n",
    "L = 0.01  #шаг обновления весов\n",
    "eps = 0.0001\n",
    "\n",
    "while np.sqrt(df1(w)**2 + df2(w)**2) > eps:\n",
    "    w1 = w - L*([df1(w), df2(w)]/np.sqrt(df1(w)**2 + df2(w)**2))\n",
    "    while f(w1) > f(w):\n",
    "        L = L/2\n",
    "        w1 = w - L*([df1(w), df2(w)]/np.sqrt(df1(w)**2 + df2(w)**2))\n",
    "    w = w1;\n",
    "\n",
    "print(w)\n"
   ]
  },
  {
   "cell_type": "code",
   "execution_count": 33,
   "id": "7fd1f199",
   "metadata": {},
   "outputs": [
    {
     "name": "stderr",
     "output_type": "stream",
     "text": [
      "c:\\питон блеат\\lib\\site-packages\\pandas\\core\\frame.py:3607: SettingWithCopyWarning: \n",
      "A value is trying to be set on a copy of a slice from a DataFrame.\n",
      "Try using .loc[row_indexer,col_indexer] = value instead\n",
      "\n",
      "See the caveats in the documentation: https://pandas.pydata.org/pandas-docs/stable/user_guide/indexing.html#returning-a-view-versus-a-copy\n",
      "  self._set_item(key, value)\n"
     ]
    },
    {
     "data": {
      "text/plain": [
       "<AxesSubplot:xlabel='vrp_per_capita', ylabel='employment_rate'>"
      ]
     },
     "execution_count": 33,
     "metadata": {},
     "output_type": "execute_result"
    },
    {
     "data": {
      "image/png": "[encoded data removed]",
      "text/plain": [
       "<Figure size 1152x360 with 1 Axes>"
      ]
     },
     "metadata": {
      "needs_background": "light"
     },
     "output_type": "display_data"
    }
   ],
   "source": [
    "regions['gradient_solution_mine'] = w[0] + w[1]*X_scaled\n",
    "fig = plt.figure(figsize=(16,5))\n",
    "ax1 = plt.subplot(111)\n",
    "\n",
    "regions.plot.scatter('vrp_per_capita','employment_rate',ax = ax1)\n",
    "regions.plot.line('vrp_per_capita','gradient_solution_mine',ax = ax1,color = 'darkblue')"
   ]
  },
  {
   "cell_type": "code",
   "execution_count": 31,
   "id": "9bb8208a",
   "metadata": {},
   "outputs": [
    {
     "data": {
      "text/html": [
       "<div>\n",
       "<style scoped>\n",
       "    .dataframe tbody tr th:only-of-type {\n",
       "        vertical-align: middle;\n",
       "    }\n",
       "\n",
       "    .dataframe tbody tr th {\n",
       "        vertical-align: top;\n",
       "    }\n",
       "\n",
       "    .dataframe thead th {\n",
       "        text-align: right;\n",
       "    }\n",
       "</style>\n",
       "<table border=\"1\" class=\"dataframe\">\n",
       "  <thead>\n",
       "    <tr style=\"text-align: right;\">\n",
       "      <th></th>\n",
       "      <th>Region</th>\n",
       "      <th>employment_rate</th>\n",
       "      <th>vrp_per_capita</th>\n",
       "      <th>gradient_solution</th>\n",
       "      <th>mean</th>\n",
       "      <th>gradient_solution_mine</th>\n",
       "    </tr>\n",
       "  </thead>\n",
       "  <tbody>\n",
       "    <tr>\n",
       "      <th>0</th>\n",
       "      <td>Белгородская область</td>\n",
       "      <td>61.0</td>\n",
       "      <td>558.984637</td>\n",
       "      <td>60.127055</td>\n",
       "      <td>57.817284</td>\n",
       "      <td>57.817237</td>\n",
       "    </tr>\n",
       "    <tr>\n",
       "      <th>1</th>\n",
       "      <td>Брянская область</td>\n",
       "      <td>56.4</td>\n",
       "      <td>275.735010</td>\n",
       "      <td>56.347842</td>\n",
       "      <td>57.817284</td>\n",
       "      <td>57.817237</td>\n",
       "    </tr>\n",
       "    <tr>\n",
       "      <th>2</th>\n",
       "      <td>Владимирская область</td>\n",
       "      <td>59.5</td>\n",
       "      <td>324.310218</td>\n",
       "      <td>56.995949</td>\n",
       "      <td>57.817284</td>\n",
       "      <td>57.817237</td>\n",
       "    </tr>\n",
       "    <tr>\n",
       "      <th>3</th>\n",
       "      <td>Воронежская область</td>\n",
       "      <td>57.3</td>\n",
       "      <td>405.987264</td>\n",
       "      <td>58.085712</td>\n",
       "      <td>57.817284</td>\n",
       "      <td>57.817237</td>\n",
       "    </tr>\n",
       "    <tr>\n",
       "      <th>4</th>\n",
       "      <td>Ивановская область</td>\n",
       "      <td>58.1</td>\n",
       "      <td>198.415204</td>\n",
       "      <td>55.316215</td>\n",
       "      <td>57.817284</td>\n",
       "      <td>57.817237</td>\n",
       "    </tr>\n",
       "    <tr>\n",
       "      <th>...</th>\n",
       "      <td>...</td>\n",
       "      <td>...</td>\n",
       "      <td>...</td>\n",
       "      <td>...</td>\n",
       "      <td>...</td>\n",
       "      <td>...</td>\n",
       "    </tr>\n",
       "    <tr>\n",
       "      <th>79</th>\n",
       "      <td>Хабаровский край</td>\n",
       "      <td>61.9</td>\n",
       "      <td>540.122824</td>\n",
       "      <td>59.875394</td>\n",
       "      <td>57.817284</td>\n",
       "      <td>57.817237</td>\n",
       "    </tr>\n",
       "    <tr>\n",
       "      <th>80</th>\n",
       "      <td>Амурская область</td>\n",
       "      <td>59.9</td>\n",
       "      <td>381.100506</td>\n",
       "      <td>57.753664</td>\n",
       "      <td>57.817284</td>\n",
       "      <td>57.817237</td>\n",
       "    </tr>\n",
       "    <tr>\n",
       "      <th>81</th>\n",
       "      <td>Магаданская область</td>\n",
       "      <td>69.1</td>\n",
       "      <td>1218.582441</td>\n",
       "      <td>68.927633</td>\n",
       "      <td>57.817284</td>\n",
       "      <td>57.817237</td>\n",
       "    </tr>\n",
       "    <tr>\n",
       "      <th>83</th>\n",
       "      <td>Еврейская автономная область</td>\n",
       "      <td>56.0</td>\n",
       "      <td>352.550853</td>\n",
       "      <td>57.372745</td>\n",
       "      <td>57.817284</td>\n",
       "      <td>57.817237</td>\n",
       "    </tr>\n",
       "    <tr>\n",
       "      <th>84</th>\n",
       "      <td>Чукотский автономный округ</td>\n",
       "      <td>77.4</td>\n",
       "      <td>1553.546720</td>\n",
       "      <td>73.396841</td>\n",
       "      <td>57.817284</td>\n",
       "      <td>57.817237</td>\n",
       "    </tr>\n",
       "  </tbody>\n",
       "</table>\n",
       "<p>81 rows × 6 columns</p>\n",
       "</div>"
      ],
      "text/plain": [
       "                          Region  employment_rate  vrp_per_capita  \\\n",
       "0           Белгородская область             61.0      558.984637   \n",
       "1               Брянская область             56.4      275.735010   \n",
       "2           Владимирская область             59.5      324.310218   \n",
       "3            Воронежская область             57.3      405.987264   \n",
       "4             Ивановская область             58.1      198.415204   \n",
       "..                           ...              ...             ...   \n",
       "79             Хабаровский край              61.9      540.122824   \n",
       "80              Амурская область             59.9      381.100506   \n",
       "81           Магаданская область             69.1     1218.582441   \n",
       "83  Еврейская автономная область             56.0      352.550853   \n",
       "84    Чукотский автономный округ             77.4     1553.546720   \n",
       "\n",
       "    gradient_solution       mean  gradient_solution_mine  \n",
       "0           60.127055  57.817284               57.817237  \n",
       "1           56.347842  57.817284               57.817237  \n",
       "2           56.995949  57.817284               57.817237  \n",
       "3           58.085712  57.817284               57.817237  \n",
       "4           55.316215  57.817284               57.817237  \n",
       "..                ...        ...                     ...  \n",
       "79          59.875394  57.817284               57.817237  \n",
       "80          57.753664  57.817284               57.817237  \n",
       "81          68.927633  57.817284               57.817237  \n",
       "83          57.372745  57.817284               57.817237  \n",
       "84          73.396841  57.817284               57.817237  \n",
       "\n",
       "[81 rows x 6 columns]"
      ]
     },
     "execution_count": 31,
     "metadata": {},
     "output_type": "execute_result"
    }
   ],
   "source": [
    "regions"
   ]
  },
  {
   "cell_type": "code",
   "execution_count": 34,
   "id": "4991de92",
   "metadata": {},
   "outputs": [
    {
     "data": {
      "text/plain": [
       "array([[0, 1],\n",
       "       [2, 3],\n",
       "       [4, 5]])"
      ]
     },
     "execution_count": 34,
     "metadata": {},
     "output_type": "execute_result"
    }
   ],
   "source": [
    "from sklearn.preprocessing import PolynomialFeatures\n",
    "X = np.arange(6).reshape(3, 2)\n",
    "X"
   ]
  },
  {
   "cell_type": "code",
   "execution_count": 36,
   "id": "20097693",
   "metadata": {},
   "outputs": [
    {
     "data": {
      "text/plain": [
       "array([[ 1.,  0.,  1.,  0.,  0.,  1.],\n",
       "       [ 1.,  2.,  3.,  4.,  6.,  9.],\n",
       "       [ 1.,  4.,  5., 16., 20., 25.]])"
      ]
     },
     "execution_count": 36,
     "metadata": {},
     "output_type": "execute_result"
    }
   ],
   "source": [
    "poly = PolynomialFeatures(degree=2)\n",
    "poly.fit_transform(X)\n"
   ]
  },
  {
   "cell_type": "code",
   "execution_count": 37,
   "id": "19946334",
   "metadata": {},
   "outputs": [
    {
     "data": {
      "text/plain": [
       "array([ 3., -2.,  1., -1.])"
      ]
     },
     "execution_count": 37,
     "metadata": {},
     "output_type": "execute_result"
    }
   ],
   "source": [
    "from sklearn.pipeline import Pipeline\n",
    "model = Pipeline([('poly', PolynomialFeatures(degree=3)), ('linear', LinearRegression(fit_intercept=False))])\n",
    "# fit to an order-3 polynomial data\n",
    "x = np.arange(5)\n",
    "y = 3 - 2 * x + x ** 2 - x ** 3\n",
    "model = model.fit(x[:, np.newaxis], y)\n",
    "model.named_steps['linear'].coef_\n"
   ]
  },
  {
   "cell_type": "code",
   "execution_count": 38,
   "id": "6fce0686",
   "metadata": {},
   "outputs": [
    {
     "data": {
      "image/png": "[encoded data removed]",
      "text/plain": [
       "<Figure size 1152x360 with 1 Axes>"
      ]
     },
     "metadata": {
      "needs_background": "light"
     },
     "output_type": "display_data"
    }
   ],
   "source": [
    "n_samples = 100\n",
    "X = np.linspace(0, 10, 100)\n",
    "y = X ** 3 + np.random.randn(n_samples) * 100 + 100\n",
    "\n",
    "X = X.reshape(-1,1)\n",
    "\n",
    "regr = LinearRegression()\n",
    "\n",
    "# create quadratic features\n",
    "quadratic = PolynomialFeatures(degree=2)\n",
    "cubic = PolynomialFeatures(degree=3)\n",
    "tenth = PolynomialFeatures(degree=40)\n",
    "X_quad = quadratic.fit_transform(X)\n",
    "X_tenth = tenth.fit_transform(X)\n",
    "\n",
    "# fit features\n",
    "X_fit = np.arange(X.min(), X.max(), 1)[:, np.newaxis]\n",
    "\n",
    "regr = regr.fit(X, y)\n",
    "y_lin_fit = regr.predict(X_fit)\n",
    "linear_r2 = r2_score(y, regr.predict(X))\n",
    "\n",
    "regr = regr.fit(X_quad, y)\n",
    "y_quad_fit = regr.predict(quadratic.fit_transform(X_fit))\n",
    "quadratic_r2 = r2_score(y, regr.predict(X_quad))\n",
    "\n",
    "regr = regr.fit(X_tenth, y)\n",
    "y_tenth_fit = regr.predict(tenth.fit_transform(X_fit))\n",
    "tenth_r2 = r2_score(y, regr.predict(X_tenth))\n",
    "\n",
    "fig = plt.figure(figsize=(16,5))\n",
    "\n",
    "# plot results\n",
    "plt.scatter(X, y, label='training points', color='lightgray')\n",
    "\n",
    "plt.plot(X_fit, y_lin_fit, \n",
    "         label='linear (d=1), $R^2={:.2f}$'.format(linear_r2), \n",
    "         color='blue', \n",
    "         lw=2, \n",
    "         linestyle=':')\n",
    "\n",
    "plt.plot(X_fit, y_quad_fit, \n",
    "         label='quadratic (d=2), $R^2={:.2f}$'.format(quadratic_r2),\n",
    "         color='red', \n",
    "         lw=2,\n",
    "         linestyle='-')\n",
    "\n",
    "plt.plot(X_fit, y_tenth_fit, \n",
    "         label='tenth (d=10), $R^2={:.2f}$'.format(tenth_r2),\n",
    "         color='yellow', \n",
    "         lw=2, \n",
    "         linestyle='--')\n",
    "\n",
    "plt.legend(loc='upper right')\n",
    "plt.show()"
   ]
  },
  {
   "cell_type": "code",
   "execution_count": null,
   "id": "ffdc7a76",
   "metadata": {},
   "outputs": [],
   "source": []
  }
 ],
 "metadata": {
  "kernelspec": {
   "display_name": "Python 3 (ipykernel)",
   "language": "python",
   "name": "python3"
  },
  "language_info": {
   "codemirror_mode": {
    "name": "ipython",
    "version": 3
   },
   "file_extension": ".py",
   "mimetype": "text/x-python",
   "name": "python",
   "nbconvert_exporter": "python",
   "pygments_lexer": "ipython3",
   "version": "3.8.5"
  }
 },
 "nbformat": 4,
 "nbformat_minor": 5
}
